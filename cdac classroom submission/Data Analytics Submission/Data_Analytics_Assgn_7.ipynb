{
  "nbformat": 4,
  "nbformat_minor": 0,
  "metadata": {
    "colab": {
      "provenance": []
    },
    "kernelspec": {
      "name": "python3",
      "display_name": "Python 3"
    },
    "language_info": {
      "name": "python"
    }
  },
  "cells": [
    {
      "cell_type": "code",
      "execution_count": 18,
      "metadata": {
        "id": "tnF_0pciRRsk"
      },
      "outputs": [],
      "source": [
        "#1. Hypothesis Testing for Titanic Dataset\n",
        "#Hypothesis:\n",
        "\n",
        "#Null Hypothesis (H0): There is no significant difference between the proportions of surviving females and males.\n",
        "#Alternative Hypothesis (H1): There is a significant difference between the proportions of surviving females and males."
      ]
    },
    {
      "cell_type": "code",
      "source": [
        "import seaborn as sns\n",
        "import pandas as pd\n",
        "from scipy import stats\n"
      ],
      "metadata": {
        "id": "nkXVbQKORiaM"
      },
      "execution_count": 19,
      "outputs": []
    },
    {
      "cell_type": "code",
      "source": [
        "titanic = sns.load_dataset('titanic')"
      ],
      "metadata": {
        "id": "H6FMLg4-Rs5w"
      },
      "execution_count": 20,
      "outputs": []
    },
    {
      "cell_type": "code",
      "source": [
        "# Calculate the number of survivors by gender\n",
        "survived_counts = titanic.groupby('sex')['survived'].value_counts().unstack()\n",
        "survived_counts = survived_counts.fillna(0)\n",
        "\n",
        "# Proportions of survived females and males\n",
        "female_survival_rate = survived_counts.loc['female', 1] / survived_counts.loc['female'].sum()\n",
        "male_survival_rate = survived_counts.loc['male', 1] / survived_counts.loc['male'].sum()\n",
        "\n",
        "print(f\"Female Survival Rate: {female_survival_rate}\")\n",
        "print(f\"Male Survival Rate: {male_survival_rate}\")\n"
      ],
      "metadata": {
        "colab": {
          "base_uri": "https://localhost:8080/"
        },
        "id": "6YFgPR2GTRh2",
        "outputId": "ba143c85-28a8-477f-a64d-56233ba5bcc3"
      },
      "execution_count": 21,
      "outputs": [
        {
          "output_type": "stream",
          "name": "stdout",
          "text": [
            "Female Survival Rate: 0.7420382165605095\n",
            "Male Survival Rate: 0.18890814558058924\n"
          ]
        }
      ]
    },
    {
      "cell_type": "code",
      "source": [
        "# Create a contingency table\n",
        "contingency_table = survived_counts.values\n",
        "\n",
        "# Perform the Chi-squared test\n",
        "chi2, p, dof, expected = stats.chi2_contingency(contingency_table)\n",
        "\n",
        "print(f\"Chi-squared Statistic: {chi2}\")\n",
        "print(f\"P-value: {p}\")\n"
      ],
      "metadata": {
        "colab": {
          "base_uri": "https://localhost:8080/"
        },
        "id": "Fjngq3RtTUqg",
        "outputId": "f79f8141-b931-428d-aa8e-52c7385c9a63"
      },
      "execution_count": 22,
      "outputs": [
        {
          "output_type": "stream",
          "name": "stdout",
          "text": [
            "Chi-squared Statistic: 260.71702016732104\n",
            "P-value: 1.1973570627755645e-58\n"
          ]
        }
      ]
    },
    {
      "cell_type": "code",
      "source": [
        "#p-value is not less than the significance level (commonly 0.05)\n",
        "#cannot reject the null hypothesis, indicating there is no significant difference in survival proportions between females and males."
      ],
      "metadata": {
        "id": "jIBBote9TYv1"
      },
      "execution_count": 23,
      "outputs": []
    },
    {
      "cell_type": "code",
      "source": [
        "#ANOVA Testing for Iris Dataset\n",
        "#Null Hypothesis\n",
        "# (𝐻0): There are no significant differences in the means of the sepal lengths (or any other measurement) among the different species.\n",
        "#Alternative Hypothesis\n",
        "# (𝐻a): At least one species has a different mean sepal length (or other measurement)."
      ],
      "metadata": {
        "id": "0vaUHjzUTc9e"
      },
      "execution_count": 24,
      "outputs": []
    },
    {
      "cell_type": "code",
      "source": [
        "#For the iris dataset perform the ANOVA testing.\n",
        "#“Normally, species variable put as dependent variable to do classification. But species also can put as independent variable to conduct ANOVA test. Conduct the statistical test that figures out three or more differences in group means.\n"
      ],
      "metadata": {
        "id": "a5uJ04H5T1uT"
      },
      "execution_count": 25,
      "outputs": []
    },
    {
      "cell_type": "code",
      "source": [
        "from sklearn.datasets import load_iris\n",
        "import pandas as pd\n",
        "from scipy import stats\n",
        "\n",
        "# Load the dataset\n",
        "iris = load_iris()\n",
        "iris_df = pd.DataFrame(data=iris.data, columns=iris.feature_names)\n",
        "iris_df['species'] = iris.target\n"
      ],
      "metadata": {
        "id": "UpbsDcMnUDqD"
      },
      "execution_count": 26,
      "outputs": []
    },
    {
      "cell_type": "code",
      "source": [
        "# Perform ANOVA\n",
        "f_statistic, p_value = stats.f_oneway(\n",
        "    iris_df[iris_df['species'] == 0]['sepal length (cm)'],  # Setosa\n",
        "    iris_df[iris_df['species'] == 1]['sepal length (cm)'],  # Versicolor\n",
        "    iris_df[iris_df['species'] == 2]['sepal length (cm)']   # Virginica\n",
        ")\n",
        "\n",
        "print(f\"F-statistic: {f_statistic}\")\n",
        "print(f\"P-value: {p_value}\")\n"
      ],
      "metadata": {
        "colab": {
          "base_uri": "https://localhost:8080/"
        },
        "id": "YXvFoSsnUG6y",
        "outputId": "494da88a-ebdd-491c-c1ca-6e88d71ca240"
      },
      "execution_count": 27,
      "outputs": [
        {
          "output_type": "stream",
          "name": "stdout",
          "text": [
            "F-statistic: 119.26450218450468\n",
            "P-value: 1.6696691907693826e-31\n"
          ]
        }
      ]
    },
    {
      "cell_type": "code",
      "source": [
        "#p-value is greater than the significance level (commonly 0.05)\n",
        "#cannot reject null hypothesis"
      ],
      "metadata": {
        "id": "zw0KexoZUMhv"
      },
      "execution_count": 17,
      "outputs": []
    },
    {
      "cell_type": "code",
      "source": [],
      "metadata": {
        "id": "yfvcJJHjUVIS"
      },
      "execution_count": 27,
      "outputs": []
    }
  ]
}