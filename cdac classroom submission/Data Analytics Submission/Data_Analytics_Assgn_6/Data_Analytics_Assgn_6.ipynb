{
  "nbformat": 4,
  "nbformat_minor": 0,
  "metadata": {
    "colab": {
      "provenance": []
    },
    "kernelspec": {
      "name": "python3",
      "display_name": "Python 3"
    },
    "language_info": {
      "name": "python"
    }
  },
  "cells": [
    {
      "cell_type": "code",
      "execution_count": 1,
      "metadata": {
        "id": "ivEAc18pCkEL"
      },
      "outputs": [],
      "source": [
        "import numpy as np\n",
        "import scipy.stats as stats\n",
        "\n"
      ]
    },
    {
      "cell_type": "code",
      "source": [
        "# 1. Confidence Interval for Candidate A\n",
        "# Sample data\n",
        "n = 800  # total sample size\n",
        "x = 380  # number of voters for candidate A\n",
        "\n",
        "# Point estimate (sample proportion)\n",
        "p_hat = x / n\n"
      ],
      "metadata": {
        "id": "N0WFZ-dLCoVj"
      },
      "execution_count": 2,
      "outputs": []
    },
    {
      "cell_type": "code",
      "source": [
        "\n",
        "# Z-score for 95% confidence level\n",
        "z_score = stats.norm.ppf(0.975)  # two-tailed, so 0.975 for 95% CI\n",
        "\n",
        "# Standard error\n",
        "se = np.sqrt(p_hat * (1 - p_hat) / n)\n",
        "\n",
        "# Margin of error\n",
        "margin_of_error = z_score * se\n",
        "\n"
      ],
      "metadata": {
        "id": "q18iPNbRC31D"
      },
      "execution_count": 3,
      "outputs": []
    },
    {
      "cell_type": "code",
      "source": [
        "# Confidence interval\n",
        "ci_lower = p_hat - margin_of_error\n",
        "ci_upper = p_hat + margin_of_error\n",
        "\n",
        "print(f\"1. 95% Confidence Interval for Candidate A: {p_hat:.4f} ± {margin_of_error:.4f}\")\n",
        "print(f\"   CI: ({ci_lower:.4f}, {ci_upper:.4f})\")\n"
      ],
      "metadata": {
        "colab": {
          "base_uri": "https://localhost:8080/"
        },
        "id": "ciwtEMV9C8fh",
        "outputId": "a2ebb328-022f-40e2-af24-d8301cd71ce1"
      },
      "execution_count": 5,
      "outputs": [
        {
          "output_type": "stream",
          "name": "stdout",
          "text": [
            "1. 95% Confidence Interval for Candidate A: 0.4750 ± 0.0346\n",
            "   CI: (0.4404, 0.5096)\n"
          ]
        }
      ]
    },
    {
      "cell_type": "code",
      "source": [
        "\n",
        "# b) Sample size calculation for 2% margin of error\n",
        "E = 0.02  # desired margin of error\n",
        "p = 0.5  # assumed proportion for maximum sample size\n",
        "\n",
        "# Sample size calculation\n",
        "n_required = (z_score**2 * p * (1 - p)) / (E**2)\n",
        "n_required = np.ceil(n_required)  # round up to the nearest whole number\n",
        "\n",
        "print(f\"2. Required sample size for 2% margin of error: {int(n_required)}\")\n",
        "\n",
        "# 2. Hypothesis Testing for Average Arm Span\n",
        "# Given data\n",
        "sample_mean = 200  # sample mean\n",
        "mu_0 = 160  # null hypothesis mean\n",
        "sigma = 15  # assumed population standard deviation\n",
        "n_arm_span = 30  # sample size for arm span\n",
        "\n",
        "# Test statistic\n",
        "z_test = (sample_mean - mu_0) / (sigma / np.sqrt(n_arm_span))\n",
        "\n"
      ],
      "metadata": {
        "colab": {
          "base_uri": "https://localhost:8080/"
        },
        "id": "8RKH7FEeDAo6",
        "outputId": "395ce2bc-f739-4d55-b746-940604ec9f1a"
      },
      "execution_count": 6,
      "outputs": [
        {
          "output_type": "stream",
          "name": "stdout",
          "text": [
            "2. Required sample size for 2% margin of error: 2401\n"
          ]
        }
      ]
    },
    {
      "cell_type": "code",
      "source": [
        "# p-value for one-tailed test\n",
        "p_value = 1 - stats.norm.cdf(z_test)\n",
        "\n",
        "print(f\"3. Test Statistic (z): {z_test:.4f}\")\n",
        "print(f\"   p-value: {p_value:.4f}\")\n",
        "\n",
        "# Conclusion\n",
        "alpha = 0.05  # significance level\n",
        "if p_value < alpha:\n",
        "    print(\"   Conclusion: Reject the null hypothesis. The average arm span is more than 160 cm.\")\n",
        "else:\n",
        "    print(\"   Conclusion: Fail to reject the null hypothesis.\")\n"
      ],
      "metadata": {
        "colab": {
          "base_uri": "https://localhost:8080/"
        },
        "id": "TG-NgVQUDHPV",
        "outputId": "6b32e62f-666f-4101-d4f6-d741e81fa090"
      },
      "execution_count": 7,
      "outputs": [
        {
          "output_type": "stream",
          "name": "stdout",
          "text": [
            "3. Test Statistic (z): 14.6059\n",
            "   p-value: 0.0000\n",
            "   Conclusion: Reject the null hypothesis. The average arm span is more than 160 cm.\n"
          ]
        }
      ]
    },
    {
      "cell_type": "code",
      "source": [
        "\n",
        "# b) 95% Confidence Interval for Average Arm Span\n",
        "# Standard error for the average arm span\n",
        "se_arm_span = sigma / np.sqrt(n_arm_span)\n",
        "\n",
        "# Margin of error for the average arm span\n",
        "margin_of_error_arm_span = z_score * se_arm_span\n",
        "\n",
        "# Confidence interval for average arm span\n",
        "ci_arm_span_lower = sample_mean - margin_of_error_arm_span\n",
        "ci_arm_span_upper = sample_mean + margin_of_error_arm_span\n",
        "\n",
        "print(f\"4. 95% Confidence Interval for Average Arm Span: ({ci_arm_span_lower:.4f}, {ci_arm_span_upper:.4f})\")\n"
      ],
      "metadata": {
        "colab": {
          "base_uri": "https://localhost:8080/"
        },
        "id": "V7MYvG5lDK7y",
        "outputId": "fb484df1-0016-4aea-dc7a-e33693a6a044"
      },
      "execution_count": 8,
      "outputs": [
        {
          "output_type": "stream",
          "name": "stdout",
          "text": [
            "4. 95% Confidence Interval for Average Arm Span: (194.6324, 205.3676)\n"
          ]
        }
      ]
    },
    {
      "cell_type": "code",
      "source": [],
      "metadata": {
        "id": "CW9ybNaUDY0V"
      },
      "execution_count": null,
      "outputs": []
    }
  ]
}